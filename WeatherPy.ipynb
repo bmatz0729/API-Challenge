{
 "cells": [
  {
   "cell_type": "markdown",
   "metadata": {},
   "source": [
    "# WeatherPy\n",
    "----\n",
    "\n",
    "#### Note\n",
    "* Instructions have been included for each segment. You do not have to follow them exactly, but they are included to help you think through the steps."
   ]
  },
  {
   "cell_type": "code",
   "execution_count": 2,
   "metadata": {
    "scrolled": true
   },
   "outputs": [],
   "source": [
    "# Dependencies and Setup\n",
    "import matplotlib.pyplot as plt\n",
    "import pandas as pd\n",
    "import numpy as np\n",
    "import requests\n",
    "import time\n",
    "from scipy.stats import linregress\n",
    "import json\n",
    "\n",
    "# Import API key\n",
    "from config import weather_api_key\n",
    "\n",
    "# Incorporated citipy to determine city based on latitude and longitude\n",
    "from citipy import citipy\n",
    "\n",
    "# Output File (CSV)\n",
    "output_data_file = \"cities.csv\"\n",
    "\n",
    "data_file = pd.read_csv(output_data_file)\n",
    "\n",
    "# Range of latitudes and longitudes\n",
    "lat_range = (-90, 90)\n",
    "lng_range = (-180, 180)"
   ]
  },
  {
   "cell_type": "code",
   "execution_count": 3,
   "metadata": {},
   "outputs": [
    {
     "data": {
      "text/html": [
       "<div>\n",
       "<style scoped>\n",
       "    .dataframe tbody tr th:only-of-type {\n",
       "        vertical-align: middle;\n",
       "    }\n",
       "\n",
       "    .dataframe tbody tr th {\n",
       "        vertical-align: top;\n",
       "    }\n",
       "\n",
       "    .dataframe thead th {\n",
       "        text-align: right;\n",
       "    }\n",
       "</style>\n",
       "<table border=\"1\" class=\"dataframe\">\n",
       "  <thead>\n",
       "    <tr style=\"text-align: right;\">\n",
       "      <th></th>\n",
       "      <th>City_ID</th>\n",
       "      <th>City</th>\n",
       "      <th>Cloudiness</th>\n",
       "      <th>Country</th>\n",
       "      <th>Date</th>\n",
       "      <th>Humidity</th>\n",
       "      <th>Lat</th>\n",
       "      <th>Lng</th>\n",
       "      <th>Max Temp</th>\n",
       "      <th>Wind Speed</th>\n",
       "    </tr>\n",
       "  </thead>\n",
       "  <tbody>\n",
       "    <tr>\n",
       "      <th>0</th>\n",
       "      <td>0</td>\n",
       "      <td>ostrovnoy</td>\n",
       "      <td>2</td>\n",
       "      <td>RU</td>\n",
       "      <td>1558378754</td>\n",
       "      <td>72</td>\n",
       "      <td>68.05</td>\n",
       "      <td>39.51</td>\n",
       "      <td>37.50</td>\n",
       "      <td>7.16</td>\n",
       "    </tr>\n",
       "    <tr>\n",
       "      <th>1</th>\n",
       "      <td>1</td>\n",
       "      <td>mahebourg</td>\n",
       "      <td>75</td>\n",
       "      <td>MU</td>\n",
       "      <td>1558378503</td>\n",
       "      <td>74</td>\n",
       "      <td>-20.41</td>\n",
       "      <td>57.70</td>\n",
       "      <td>78.80</td>\n",
       "      <td>11.41</td>\n",
       "    </tr>\n",
       "    <tr>\n",
       "      <th>2</th>\n",
       "      <td>2</td>\n",
       "      <td>qaanaaq</td>\n",
       "      <td>25</td>\n",
       "      <td>GL</td>\n",
       "      <td>1558378755</td>\n",
       "      <td>73</td>\n",
       "      <td>77.48</td>\n",
       "      <td>-69.36</td>\n",
       "      <td>22.20</td>\n",
       "      <td>2.37</td>\n",
       "    </tr>\n",
       "    <tr>\n",
       "      <th>3</th>\n",
       "      <td>3</td>\n",
       "      <td>zhuhai</td>\n",
       "      <td>0</td>\n",
       "      <td>CN</td>\n",
       "      <td>1558378755</td>\n",
       "      <td>39</td>\n",
       "      <td>40.71</td>\n",
       "      <td>112.04</td>\n",
       "      <td>44.60</td>\n",
       "      <td>4.47</td>\n",
       "    </tr>\n",
       "    <tr>\n",
       "      <th>4</th>\n",
       "      <td>4</td>\n",
       "      <td>cape town</td>\n",
       "      <td>20</td>\n",
       "      <td>ZA</td>\n",
       "      <td>1558378755</td>\n",
       "      <td>76</td>\n",
       "      <td>-33.93</td>\n",
       "      <td>18.42</td>\n",
       "      <td>55.99</td>\n",
       "      <td>8.05</td>\n",
       "    </tr>\n",
       "  </tbody>\n",
       "</table>\n",
       "</div>"
      ],
      "text/plain": [
       "   City_ID       City  Cloudiness Country        Date  Humidity    Lat  \\\n",
       "0        0  ostrovnoy           2      RU  1558378754        72  68.05   \n",
       "1        1  mahebourg          75      MU  1558378503        74 -20.41   \n",
       "2        2    qaanaaq          25      GL  1558378755        73  77.48   \n",
       "3        3     zhuhai           0      CN  1558378755        39  40.71   \n",
       "4        4  cape town          20      ZA  1558378755        76 -33.93   \n",
       "\n",
       "      Lng  Max Temp  Wind Speed  \n",
       "0   39.51     37.50        7.16  \n",
       "1   57.70     78.80       11.41  \n",
       "2  -69.36     22.20        2.37  \n",
       "3  112.04     44.60        4.47  \n",
       "4   18.42     55.99        8.05  "
      ]
     },
     "execution_count": 3,
     "metadata": {},
     "output_type": "execute_result"
    }
   ],
   "source": [
    "data_file.head()"
   ]
  },
  {
   "cell_type": "code",
   "execution_count": null,
   "metadata": {},
   "outputs": [],
   "source": []
  },
  {
   "cell_type": "markdown",
   "metadata": {},
   "source": [
    "## Generate Cities List"
   ]
  },
  {
   "cell_type": "code",
   "execution_count": 4,
   "metadata": {},
   "outputs": [
    {
     "data": {
      "text/plain": [
       "624"
      ]
     },
     "execution_count": 4,
     "metadata": {},
     "output_type": "execute_result"
    }
   ],
   "source": [
    "# List for holding lat_lngs and cities\n",
    "lat_lngs = []\n",
    "cities = []\n",
    "\n",
    "# Create a set of random lat and lng combinations\n",
    "lats = np.random.uniform(low=-90.000, high=90.000, size=1500)\n",
    "lngs = np.random.uniform(low=-180.000, high=180.000, size=1500)\n",
    "lat_lngs = zip(lats, lngs)\n",
    "\n",
    "# Identify nearest city for each lat, lng combination\n",
    "for lat_lng in lat_lngs:\n",
    "    city = citipy.nearest_city(lat_lng[0], lat_lng[1]).city_name\n",
    "    \n",
    "    #city = city.replace(\" \", \"%20\")\n",
    "    \n",
    "    # If the city is unique, then add it to a our cities list\n",
    "    if city not in cities:\n",
    "        cities.append(city)\n",
    "\n",
    "# Print the city count to confirm sufficient count\n",
    "len(cities)"
   ]
  },
  {
   "cell_type": "code",
   "execution_count": null,
   "metadata": {},
   "outputs": [],
   "source": []
  },
  {
   "cell_type": "code",
   "execution_count": 6,
   "metadata": {},
   "outputs": [],
   "source": [
    "url = \"http://api.openweathermap.org/data/2.5/weather?units=Imperial&APPID=\" + weather_api_key\n"
   ]
  },
  {
   "cell_type": "code",
   "execution_count": 7,
   "metadata": {},
   "outputs": [
    {
     "name": "stdout",
     "output_type": "stream",
     "text": [
      "Processing Record 1 of Set 1 | sassandra\n",
      "Processing Record 2 of Set 1 | mvuma\n",
      "Processing Record 3 of Set 1 | ribeira grande\n",
      "Processing Record 4 of Set 1 | ushuaia\n",
      "Processing Record 5 of Set 1 | arraial do cabo\n",
      "City not found. Skipping...\n",
      "Processing Record 6 of Set 1 | umm lajj\n",
      "City not found. Skipping...\n",
      "Processing Record 7 of Set 1 | mahebourg\n",
      "Processing Record 8 of Set 1 | geraldton\n",
      "Processing Record 9 of Set 1 | mataura\n",
      "Processing Record 10 of Set 1 | bijar\n",
      "Processing Record 11 of Set 1 | rikitea\n",
      "City not found. Skipping...\n",
      "Processing Record 12 of Set 1 | sri aman\n",
      "Processing Record 13 of Set 1 | gamba\n",
      "Processing Record 14 of Set 1 | nikolskoye\n",
      "Processing Record 15 of Set 1 | tasiilaq\n",
      "Processing Record 16 of Set 1 | upernavik\n",
      "Processing Record 17 of Set 1 | ancud\n",
      "Processing Record 18 of Set 1 | champerico\n",
      "Processing Record 19 of Set 1 | pevek\n",
      "Processing Record 20 of Set 1 | ucluelet\n",
      "Processing Record 21 of Set 1 | old town\n",
      "City not found. Skipping...\n",
      "Processing Record 22 of Set 1 | jamestown\n",
      "Processing Record 23 of Set 1 | aranos\n",
      "Processing Record 24 of Set 1 | ilulissat\n",
      "Processing Record 25 of Set 1 | flinders\n",
      "Processing Record 26 of Set 1 | busselton\n",
      "City not found. Skipping...\n",
      "Processing Record 27 of Set 1 | ketchikan\n",
      "Processing Record 28 of Set 1 | bailleul\n",
      "Processing Record 29 of Set 1 | morant bay\n",
      "Processing Record 30 of Set 1 | east london\n",
      "Processing Record 31 of Set 1 | albany\n",
      "Processing Record 32 of Set 1 | punta arenas\n",
      "Processing Record 33 of Set 1 | itarema\n",
      "Processing Record 34 of Set 1 | gazli\n",
      "Processing Record 35 of Set 1 | puerto ayora\n",
      "Processing Record 36 of Set 1 | faanui\n",
      "Processing Record 37 of Set 1 | hilo\n",
      "Processing Record 38 of Set 1 | bluff\n",
      "City not found. Skipping...\n",
      "Processing Record 39 of Set 1 | novoagansk\n",
      "Processing Record 40 of Set 1 | villarrica\n",
      "Processing Record 41 of Set 1 | esna\n",
      "Processing Record 42 of Set 1 | yerbogachen\n",
      "Processing Record 43 of Set 1 | hamilton\n",
      "Processing Record 44 of Set 1 | bawal\n",
      "Processing Record 45 of Set 1 | kapaa\n",
      "Processing Record 46 of Set 1 | kaitangata\n",
      "Processing Record 47 of Set 1 | butaritari\n",
      "City not found. Skipping...\n",
      "Processing Record 48 of Set 1 | kodiak\n",
      "Processing Record 49 of Set 1 | emba\n",
      "Processing Record 1 of Set 2 | srednekolymsk\n",
      "Processing Record 2 of Set 2 | ahipara\n",
      "Processing Record 3 of Set 2 | dikson\n",
      "Processing Record 4 of Set 2 | tuktoyaktuk\n",
      "Processing Record 5 of Set 2 | puerto leguizamo\n",
      "Processing Record 6 of Set 2 | bonavista\n",
      "Processing Record 7 of Set 2 | carnarvon\n",
      "Processing Record 8 of Set 2 | bathsheba\n",
      "Processing Record 9 of Set 2 | conceicao do araguaia\n",
      "Processing Record 10 of Set 2 | pangnirtung\n",
      "Processing Record 11 of Set 2 | benguela\n",
      "Processing Record 12 of Set 2 | lebu\n",
      "Processing Record 13 of Set 2 | hobart\n",
      "Processing Record 14 of Set 2 | papara\n",
      "City not found. Skipping...\n",
      "Processing Record 15 of Set 2 | avarua\n",
      "Processing Record 16 of Set 2 | kavieng\n",
      "Processing Record 17 of Set 2 | torbay\n",
      "Processing Record 18 of Set 2 | lasa\n",
      "Processing Record 19 of Set 2 | tilichiki\n",
      "Processing Record 20 of Set 2 | narsaq\n",
      "Processing Record 21 of Set 2 | mar del plata\n",
      "Processing Record 22 of Set 2 | damietta\n",
      "Processing Record 23 of Set 2 | birao\n",
      "City not found. Skipping...\n",
      "Processing Record 24 of Set 2 | san rafael\n",
      "Processing Record 25 of Set 2 | port lincoln\n",
      "Processing Record 26 of Set 2 | progreso\n",
      "Processing Record 27 of Set 2 | qaanaaq\n",
      "Processing Record 28 of Set 2 | ambon\n",
      "Processing Record 29 of Set 2 | lorengau\n",
      "Processing Record 30 of Set 2 | aklavik\n",
      "Processing Record 31 of Set 2 | thompson\n",
      "Processing Record 32 of Set 2 | saint-pierre\n",
      "Processing Record 33 of Set 2 | port alfred\n",
      "Processing Record 34 of Set 2 | atuona\n",
      "Processing Record 35 of Set 2 | barrow\n",
      "City not found. Skipping...\n",
      "Processing Record 36 of Set 2 | hermanus\n",
      "Processing Record 37 of Set 2 | sitka\n",
      "Processing Record 38 of Set 2 | goderich\n",
      "Processing Record 39 of Set 2 | vaini\n",
      "Processing Record 40 of Set 2 | tiksi\n",
      "Processing Record 41 of Set 2 | macau\n",
      "Processing Record 42 of Set 2 | camacha\n",
      "Processing Record 43 of Set 2 | saskylakh\n",
      "Processing Record 44 of Set 2 | tallahassee\n",
      "Processing Record 45 of Set 2 | skjervoy\n",
      "Processing Record 46 of Set 2 | tautira\n",
      "City not found. Skipping...\n",
      "Processing Record 47 of Set 2 | pervomayskiy\n",
      "Processing Record 48 of Set 2 | new norfolk\n",
      "City not found. Skipping...\n",
      "Processing Record 49 of Set 2 | lagoa\n",
      "Processing Record 1 of Set 3 | baker city\n",
      "Processing Record 2 of Set 3 | castro\n",
      "City not found. Skipping...\n",
      "Processing Record 3 of Set 3 | najran\n",
      "City not found. Skipping...\n",
      "Processing Record 4 of Set 3 | hofn\n",
      "City not found. Skipping...\n",
      "Processing Record 5 of Set 3 | bowen\n",
      "Processing Record 6 of Set 3 | canakkale\n",
      "Processing Record 7 of Set 3 | karakol\n",
      "Processing Record 8 of Set 3 | georgetown\n",
      "Processing Record 9 of Set 3 | richards bay\n",
      "Processing Record 10 of Set 3 | yellowknife\n",
      "Processing Record 11 of Set 3 | zarubino\n",
      "Processing Record 12 of Set 3 | warud\n",
      "Processing Record 13 of Set 3 | bethel\n",
      "City not found. Skipping...\n",
      "Processing Record 14 of Set 3 | atbasar\n",
      "Processing Record 15 of Set 3 | mkushi\n",
      "Processing Record 16 of Set 3 | raudeberg\n",
      "Processing Record 17 of Set 3 | hithadhoo\n",
      "Processing Record 18 of Set 3 | vila velha\n",
      "Processing Record 19 of Set 3 | maniitsoq\n",
      "Processing Record 20 of Set 3 | solnechnyy\n",
      "Processing Record 21 of Set 3 | baykit\n",
      "Processing Record 22 of Set 3 | victoria\n",
      "Processing Record 23 of Set 3 | hobyo\n",
      "Processing Record 24 of Set 3 | zeya\n",
      "Processing Record 25 of Set 3 | rio verde de mato grosso\n",
      "Processing Record 26 of Set 3 | iqaluit\n",
      "Processing Record 27 of Set 3 | satipo\n",
      "Processing Record 28 of Set 3 | chokurdakh\n",
      "Processing Record 29 of Set 3 | oktyabrskoye\n",
      "Processing Record 30 of Set 3 | kavaratti\n",
      "Processing Record 31 of Set 3 | saint george\n",
      "Processing Record 32 of Set 3 | araouane\n",
      "Processing Record 33 of Set 3 | avera\n",
      "Processing Record 34 of Set 3 | hami\n",
      "Processing Record 35 of Set 3 | amalapuram\n",
      "Processing Record 36 of Set 3 | ereymentau\n",
      "Processing Record 37 of Set 3 | provideniya\n",
      "Processing Record 38 of Set 3 | chuy\n",
      "Processing Record 39 of Set 3 | bagdarin\n",
      "Processing Record 40 of Set 3 | waddan\n",
      "Processing Record 41 of Set 3 | ngunguru\n",
      "Processing Record 42 of Set 3 | souillac\n",
      "Processing Record 43 of Set 3 | rio grande\n",
      "Processing Record 44 of Set 3 | portland\n",
      "Processing Record 45 of Set 3 | buraydah\n",
      "Processing Record 46 of Set 3 | cape town\n",
      "Processing Record 47 of Set 3 | asosa\n",
      "City not found. Skipping...\n",
      "Processing Record 48 of Set 3 | airai\n",
      "Processing Record 49 of Set 3 | coihaique\n",
      "Processing Record 1 of Set 4 | opuwo\n",
      "Processing Record 2 of Set 4 | awbari\n",
      "Processing Record 3 of Set 4 | jerome\n",
      "Processing Record 4 of Set 4 | kozhva\n",
      "Processing Record 5 of Set 4 | fairbanks\n",
      "Processing Record 6 of Set 4 | angoche\n",
      "Processing Record 7 of Set 4 | nacala\n",
      "Processing Record 8 of Set 4 | haines junction\n",
      "Processing Record 9 of Set 4 | ponta do sol\n",
      "Processing Record 10 of Set 4 | labytnangi\n",
      "Processing Record 11 of Set 4 | saldanha\n",
      "Processing Record 12 of Set 4 | saint-philippe\n",
      "Processing Record 13 of Set 4 | kiama\n",
      "Processing Record 14 of Set 4 | chernyakhovsk\n",
      "City not found. Skipping...\n",
      "Processing Record 15 of Set 4 | ciudad bolivar\n",
      "Processing Record 16 of Set 4 | bambanglipuro\n",
      "Processing Record 17 of Set 4 | saint-georges\n",
      "Processing Record 18 of Set 4 | baijiantan\n",
      "Processing Record 19 of Set 4 | christiansburg\n",
      "Processing Record 20 of Set 4 | bouar\n",
      "Processing Record 21 of Set 4 | moa\n",
      "Processing Record 22 of Set 4 | khatanga\n",
      "Processing Record 23 of Set 4 | prince rupert\n",
      "Processing Record 24 of Set 4 | zaranj\n",
      "Processing Record 25 of Set 4 | boa vista\n",
      "Processing Record 26 of Set 4 | mogadishu\n",
      "Processing Record 27 of Set 4 | klaeng\n",
      "Processing Record 28 of Set 4 | longyearbyen\n",
      "Processing Record 29 of Set 4 | leningradskiy\n",
      "Processing Record 30 of Set 4 | anderson\n",
      "City not found. Skipping...\n",
      "Processing Record 31 of Set 4 | kolpashevo\n",
      "Processing Record 32 of Set 4 | mitsamiouli\n",
      "Processing Record 33 of Set 4 | abalak\n",
      "Processing Record 34 of Set 4 | bubaque\n",
      "Processing Record 35 of Set 4 | fortuna\n",
      "Processing Record 36 of Set 4 | kruisfontein\n",
      "Processing Record 37 of Set 4 | makushino\n",
      "Processing Record 38 of Set 4 | walvis bay\n",
      "Processing Record 39 of Set 4 | dingle\n",
      "Processing Record 40 of Set 4 | wamba\n",
      "Processing Record 41 of Set 4 | hasaki\n"
     ]
    },
    {
     "name": "stdout",
     "output_type": "stream",
     "text": [
      "City not found. Skipping...\n",
      "Processing Record 42 of Set 4 | karratha\n",
      "Processing Record 43 of Set 4 | clyde river\n",
      "Processing Record 44 of Set 4 | roros\n",
      "Processing Record 45 of Set 4 | bambous virieux\n",
      "City not found. Skipping...\n",
      "Processing Record 46 of Set 4 | naze\n",
      "Processing Record 47 of Set 4 | liverpool\n",
      "City not found. Skipping...\n",
      "City not found. Skipping...\n",
      "City not found. Skipping...\n",
      "Processing Record 48 of Set 4 | inhambane\n",
      "Processing Record 49 of Set 4 | carutapera\n",
      "Processing Record 1 of Set 5 | moron\n",
      "Processing Record 2 of Set 5 | te anau\n",
      "Processing Record 3 of Set 5 | atasu\n",
      "City not found. Skipping...\n",
      "Processing Record 4 of Set 5 | nosy varika\n",
      "Processing Record 5 of Set 5 | severo-kurilsk\n",
      "Processing Record 6 of Set 5 | pathein\n",
      "Processing Record 7 of Set 5 | shuyskoye\n",
      "Processing Record 8 of Set 5 | brewster\n",
      "Processing Record 9 of Set 5 | malinovoye ozero\n",
      "Processing Record 10 of Set 5 | ayagoz\n",
      "Processing Record 11 of Set 5 | rio gallegos\n",
      "City not found. Skipping...\n",
      "Processing Record 12 of Set 5 | luderitz\n",
      "Processing Record 13 of Set 5 | alofi\n",
      "City not found. Skipping...\n",
      "Processing Record 14 of Set 5 | klaksvik\n",
      "Processing Record 15 of Set 5 | penzance\n",
      "Processing Record 16 of Set 5 | basoko\n",
      "Processing Record 17 of Set 5 | dallas\n",
      "Processing Record 18 of Set 5 | praia da vitoria\n",
      "Processing Record 19 of Set 5 | bredasdorp\n",
      "Processing Record 20 of Set 5 | idrinskoye\n",
      "City not found. Skipping...\n",
      "Processing Record 21 of Set 5 | kahului\n",
      "Processing Record 22 of Set 5 | bandarbeyla\n",
      "Processing Record 23 of Set 5 | talaya\n",
      "City not found. Skipping...\n",
      "Processing Record 24 of Set 5 | san quintin\n",
      "Processing Record 25 of Set 5 | iskateley\n",
      "Processing Record 26 of Set 5 | cidreira\n",
      "Processing Record 27 of Set 5 | belaya gora\n",
      "City not found. Skipping...\n",
      "Processing Record 28 of Set 5 | bontang\n",
      "Processing Record 29 of Set 5 | lazaro cardenas\n",
      "Processing Record 30 of Set 5 | karaton\n",
      "Processing Record 31 of Set 5 | placido de castro\n",
      "Processing Record 32 of Set 5 | shellbrook\n",
      "Processing Record 33 of Set 5 | makakilo city\n",
      "Processing Record 34 of Set 5 | bellegarde-sur-valserine\n",
      "Processing Record 35 of Set 5 | roebourne\n",
      "Processing Record 36 of Set 5 | banepa\n",
      "Processing Record 37 of Set 5 | aswan\n",
      "Processing Record 38 of Set 5 | zhicheng\n",
      "Processing Record 39 of Set 5 | jaisalmer\n",
      "Processing Record 40 of Set 5 | beringovskiy\n",
      "City not found. Skipping...\n",
      "City not found. Skipping...\n",
      "Processing Record 41 of Set 5 | dillon\n",
      "Processing Record 42 of Set 5 | san patricio\n",
      "Processing Record 43 of Set 5 | beroroha\n",
      "Processing Record 44 of Set 5 | solvychegodsk\n",
      "Processing Record 45 of Set 5 | agadez\n",
      "Processing Record 46 of Set 5 | altay\n",
      "Processing Record 47 of Set 5 | kudahuvadhoo\n",
      "Processing Record 48 of Set 5 | nome\n",
      "Processing Record 49 of Set 5 | valmiera\n",
      "Processing Record 1 of Set 6 | kuytun\n",
      "Processing Record 2 of Set 6 | kaeo\n",
      "City not found. Skipping...\n",
      "Processing Record 3 of Set 6 | sur\n",
      "City not found. Skipping...\n",
      "Processing Record 4 of Set 6 | codrington\n",
      "Processing Record 5 of Set 6 | morgan city\n",
      "Processing Record 6 of Set 6 | mandera\n",
      "Processing Record 7 of Set 6 | baghdad\n",
      "Processing Record 8 of Set 6 | yanam\n",
      "Processing Record 9 of Set 6 | irbeyskoye\n",
      "Processing Record 10 of Set 6 | vaitape\n",
      "Processing Record 11 of Set 6 | biak\n",
      "Processing Record 12 of Set 6 | nanortalik\n",
      "Processing Record 13 of Set 6 | manokwari\n",
      "Processing Record 14 of Set 6 | chicama\n",
      "Processing Record 15 of Set 6 | caucaia\n",
      "City not found. Skipping...\n",
      "Processing Record 16 of Set 6 | tanout\n",
      "Processing Record 17 of Set 6 | sorong\n",
      "Processing Record 18 of Set 6 | masaka\n",
      "Processing Record 19 of Set 6 | huaihua\n",
      "Processing Record 20 of Set 6 | port hedland\n",
      "Processing Record 21 of Set 6 | alingsas\n",
      "Processing Record 22 of Set 6 | athabasca\n",
      "Processing Record 23 of Set 6 | hambantota\n",
      "Processing Record 24 of Set 6 | sinegorye\n",
      "Processing Record 25 of Set 6 | namibe\n",
      "Processing Record 26 of Set 6 | honiara\n",
      "Processing Record 27 of Set 6 | lyndon\n",
      "Processing Record 28 of Set 6 | kota tinggi\n",
      "Processing Record 29 of Set 6 | aracoiaba\n",
      "Processing Record 30 of Set 6 | tuy hoa\n",
      "Processing Record 31 of Set 6 | buenavista\n",
      "City not found. Skipping...\n",
      "Processing Record 32 of Set 6 | maraba\n",
      "Processing Record 33 of Set 6 | watsa\n",
      "Processing Record 34 of Set 6 | boquira\n",
      "Processing Record 35 of Set 6 | buala\n",
      "Processing Record 36 of Set 6 | mikuni\n",
      "Processing Record 37 of Set 6 | tiznit\n",
      "Processing Record 38 of Set 6 | laguna\n",
      "Processing Record 39 of Set 6 | diapaga\n",
      "Processing Record 40 of Set 6 | karatau\n",
      "Processing Record 41 of Set 6 | kolvereid\n",
      "Processing Record 42 of Set 6 | sao joao da barra\n",
      "Processing Record 43 of Set 6 | kyren\n",
      "City not found. Skipping...\n",
      "Processing Record 44 of Set 6 | ust-nera\n",
      "City not found. Skipping...\n",
      "Processing Record 45 of Set 6 | bakchar\n",
      "Processing Record 46 of Set 6 | cherskiy\n",
      "Processing Record 47 of Set 6 | mugur-aksy\n",
      "Processing Record 48 of Set 6 | grand gaube\n",
      "Processing Record 49 of Set 6 | umuahia\n",
      "Processing Record 1 of Set 7 | sheregesh\n",
      "Processing Record 2 of Set 7 | muli\n",
      "Processing Record 3 of Set 7 | adrar\n",
      "Processing Record 4 of Set 7 | mount gambier\n",
      "Processing Record 5 of Set 7 | norman wells\n",
      "Processing Record 6 of Set 7 | yumen\n",
      "Processing Record 7 of Set 7 | kokstad\n",
      "Processing Record 8 of Set 7 | wanning\n",
      "Processing Record 9 of Set 7 | karpathos\n",
      "Processing Record 10 of Set 7 | fenoarivo\n",
      "Processing Record 11 of Set 7 | hakui\n",
      "Processing Record 12 of Set 7 | mehamn\n",
      "Processing Record 13 of Set 7 | nikolo-pavlovskoye\n",
      "Processing Record 14 of Set 7 | hearst\n",
      "Processing Record 15 of Set 7 | boyuibe\n",
      "Processing Record 16 of Set 7 | porbandar\n",
      "Processing Record 17 of Set 7 | ust-tsilma\n",
      "Processing Record 18 of Set 7 | rocha\n",
      "Processing Record 19 of Set 7 | los llanos de aridane\n",
      "Processing Record 20 of Set 7 | pacifica\n",
      "Processing Record 21 of Set 7 | paka\n",
      "Processing Record 22 of Set 7 | kulhudhuffushi\n",
      "Processing Record 23 of Set 7 | bekwai\n",
      "Processing Record 24 of Set 7 | tarauaca\n",
      "Processing Record 25 of Set 7 | kattivakkam\n",
      "Processing Record 26 of Set 7 | saint anthony\n",
      "Processing Record 27 of Set 7 | tuatapere\n",
      "Processing Record 28 of Set 7 | sehithwa\n",
      "Processing Record 29 of Set 7 | sola\n",
      "City not found. Skipping...\n",
      "Processing Record 30 of Set 7 | kodinsk\n",
      "Processing Record 31 of Set 7 | salaga\n",
      "Processing Record 32 of Set 7 | napasar\n",
      "Processing Record 33 of Set 7 | hervey bay\n",
      "Processing Record 34 of Set 7 | parana\n",
      "Processing Record 35 of Set 7 | palafrugell\n",
      "Processing Record 36 of Set 7 | ambanja\n",
      "Processing Record 37 of Set 7 | cabo san lucas\n",
      "Processing Record 38 of Set 7 | simbahan\n",
      "Processing Record 39 of Set 7 | aykhal\n",
      "Processing Record 40 of Set 7 | vila franca do campo\n",
      "Processing Record 41 of Set 7 | zaragoza\n",
      "Processing Record 42 of Set 7 | lavrentiya\n",
      "Processing Record 43 of Set 7 | varkaus\n",
      "Processing Record 44 of Set 7 | moerai\n",
      "Processing Record 45 of Set 7 | porto novo\n",
      "Processing Record 46 of Set 7 | zhigansk\n",
      "Processing Record 47 of Set 7 | cooma\n",
      "City not found. Skipping...\n",
      "Processing Record 48 of Set 7 | dutlwe\n",
      "City not found. Skipping...\n",
      "Processing Record 49 of Set 7 | oranjemund\n",
      "Processing Record 1 of Set 8 | vestmannaeyjar\n",
      "Processing Record 2 of Set 8 | nuevitas\n",
      "Processing Record 3 of Set 8 | sao filipe\n",
      "City not found. Skipping...\n",
      "Processing Record 4 of Set 8 | banka\n",
      "Processing Record 5 of Set 8 | tres arroyos\n",
      "Processing Record 6 of Set 8 | salina\n",
      "Processing Record 7 of Set 8 | samarai\n",
      "Processing Record 8 of Set 8 | miles city\n",
      "Processing Record 9 of Set 8 | barra\n",
      "Processing Record 10 of Set 8 | zherdevka\n",
      "City not found. Skipping...\n",
      "Processing Record 11 of Set 8 | isla mujeres\n",
      "Processing Record 12 of Set 8 | katsuura\n",
      "Processing Record 13 of Set 8 | bam\n",
      "City not found. Skipping...\n",
      "Processing Record 14 of Set 8 | phan thiet\n",
      "Processing Record 15 of Set 8 | talnakh\n",
      "City not found. Skipping...\n",
      "Processing Record 16 of Set 8 | viedma\n",
      "Processing Record 17 of Set 8 | huarmey\n",
      "Processing Record 18 of Set 8 | kjollefjord\n",
      "Processing Record 19 of Set 8 | waverly\n",
      "Processing Record 20 of Set 8 | port elizabeth\n",
      "Processing Record 21 of Set 8 | port blair\n",
      "Processing Record 22 of Set 8 | vostok\n",
      "Processing Record 23 of Set 8 | plouzane\n",
      "Processing Record 24 of Set 8 | carpinteria\n",
      "Processing Record 25 of Set 8 | arosa\n",
      "Processing Record 26 of Set 8 | bonoua\n",
      "Processing Record 27 of Set 8 | the valley\n"
     ]
    },
    {
     "name": "stdout",
     "output_type": "stream",
     "text": [
      "Processing Record 28 of Set 8 | baley\n",
      "Processing Record 29 of Set 8 | oda\n",
      "Processing Record 30 of Set 8 | alice springs\n",
      "Processing Record 31 of Set 8 | maitum\n",
      "Processing Record 32 of Set 8 | dustlik\n",
      "Processing Record 33 of Set 8 | san ramon\n",
      "City not found. Skipping...\n",
      "Processing Record 34 of Set 8 | algarrobo\n",
      "Processing Record 35 of Set 8 | pinega\n",
      "Processing Record 36 of Set 8 | esperance\n",
      "Processing Record 37 of Set 8 | zabid\n",
      "Processing Record 38 of Set 8 | sergeyevka\n",
      "Processing Record 39 of Set 8 | warri\n",
      "Processing Record 40 of Set 8 | kysyl-syr\n",
      "City not found. Skipping...\n",
      "Processing Record 41 of Set 8 | matara\n",
      "Processing Record 42 of Set 8 | mount isa\n",
      "Processing Record 43 of Set 8 | great yarmouth\n",
      "Processing Record 44 of Set 8 | tadine\n",
      "Processing Record 45 of Set 8 | floro\n",
      "Processing Record 46 of Set 8 | karoi\n",
      "Processing Record 47 of Set 8 | taltal\n",
      "Processing Record 48 of Set 8 | zaraza\n",
      "Processing Record 49 of Set 8 | gelemso\n",
      "Processing Record 1 of Set 9 | doctor arroyo\n",
      "Processing Record 2 of Set 9 | bumba\n",
      "Processing Record 3 of Set 9 | thinadhoo\n",
      "Processing Record 4 of Set 9 | green river\n",
      "Processing Record 5 of Set 9 | wilmington island\n",
      "City not found. Skipping...\n",
      "Processing Record 6 of Set 9 | urengoy\n",
      "City not found. Skipping...\n",
      "Processing Record 7 of Set 9 | nishihara\n",
      "Processing Record 8 of Set 9 | catuday\n",
      "Processing Record 9 of Set 9 | lishu\n",
      "Processing Record 10 of Set 9 | santa cruz\n",
      "Processing Record 11 of Set 9 | araci\n",
      "Processing Record 12 of Set 9 | pisco\n",
      "Processing Record 13 of Set 9 | huangchuan\n",
      "Processing Record 14 of Set 9 | poum\n",
      "Processing Record 15 of Set 9 | abong mbang\n",
      "Processing Record 16 of Set 9 | jiwani\n",
      "Processing Record 17 of Set 9 | thyolo\n",
      "Processing Record 18 of Set 9 | huambo\n",
      "Processing Record 19 of Set 9 | syracuse\n",
      "Processing Record 20 of Set 9 | cairns\n",
      "Processing Record 21 of Set 9 | farafangana\n",
      "Processing Record 22 of Set 9 | mizdah\n",
      "Processing Record 23 of Set 9 | coquimbo\n",
      "Processing Record 24 of Set 9 | tura\n",
      "Processing Record 25 of Set 9 | mareeba\n",
      "Processing Record 26 of Set 9 | nabire\n",
      "Processing Record 27 of Set 9 | saint-augustin\n",
      "Processing Record 28 of Set 9 | homer\n",
      "Processing Record 29 of Set 9 | newark\n",
      "Processing Record 30 of Set 9 | new braunfels\n",
      "Processing Record 31 of Set 9 | guatire\n",
      "City not found. Skipping...\n",
      "Processing Record 32 of Set 9 | senanga\n",
      "Processing Record 33 of Set 9 | muborak\n",
      "City not found. Skipping...\n",
      "Processing Record 34 of Set 9 | peniche\n",
      "Processing Record 35 of Set 9 | luba\n",
      "Processing Record 36 of Set 9 | jingdezhen\n",
      "Processing Record 37 of Set 9 | idanre\n",
      "Processing Record 38 of Set 9 | dunhua\n",
      "Processing Record 39 of Set 9 | isangel\n",
      "Processing Record 40 of Set 9 | goundam\n",
      "Processing Record 41 of Set 9 | vadamadurai\n",
      "Processing Record 42 of Set 9 | mahajanga\n",
      "Processing Record 43 of Set 9 | kapit\n",
      "Processing Record 44 of Set 9 | labuhan\n",
      "Processing Record 45 of Set 9 | kiunga\n",
      "Processing Record 46 of Set 9 | oranjestad\n",
      "Processing Record 47 of Set 9 | chernyshevskiy\n",
      "Processing Record 48 of Set 9 | cabedelo\n",
      "Processing Record 49 of Set 9 | hay river\n",
      "Processing Record 1 of Set 10 | kununurra\n",
      "Processing Record 2 of Set 10 | touros\n",
      "Processing Record 3 of Set 10 | kenora\n",
      "Processing Record 4 of Set 10 | port moresby\n",
      "Processing Record 5 of Set 10 | usogorsk\n",
      "Processing Record 6 of Set 10 | sobolevo\n",
      "City not found. Skipping...\n",
      "Processing Record 7 of Set 10 | gikongoro\n",
      "Processing Record 8 of Set 10 | chapais\n",
      "Processing Record 9 of Set 10 | zunyi\n",
      "Processing Record 10 of Set 10 | port hardy\n",
      "Processing Record 11 of Set 10 | tome\n",
      "Processing Record 12 of Set 10 | cove\n",
      "Processing Record 13 of Set 10 | craig\n",
      "Processing Record 14 of Set 10 | cayenne\n",
      "Processing Record 15 of Set 10 | tshikapa\n",
      "Processing Record 16 of Set 10 | turayf\n",
      "Processing Record 17 of Set 10 | anantapur\n",
      "Processing Record 18 of Set 10 | katherine\n",
      "Processing Record 19 of Set 10 | abrau-dyurso\n",
      "Processing Record 20 of Set 10 | nikolsk\n",
      "Processing Record 21 of Set 10 | ilo\n",
      "Processing Record 22 of Set 10 | salalah\n",
      "Processing Record 23 of Set 10 | hit\n",
      "Processing Record 24 of Set 10 | sonoita\n",
      "Processing Record 25 of Set 10 | lages\n",
      "Processing Record 26 of Set 10 | cockburn town\n",
      "Processing Record 27 of Set 10 | xai-xai\n",
      "Processing Record 28 of Set 10 | jaggayyapeta\n",
      "Processing Record 29 of Set 10 | sikonge\n",
      "Processing Record 30 of Set 10 | catia la mar\n",
      "Processing Record 31 of Set 10 | zheleznodorozhnyy\n",
      "Processing Record 32 of Set 10 | bangangte\n",
      "Processing Record 33 of Set 10 | yongan\n",
      "Processing Record 34 of Set 10 | kuusamo\n",
      "Processing Record 35 of Set 10 | la asuncion\n",
      "Processing Record 36 of Set 10 | miranda\n",
      "Processing Record 37 of Set 10 | lujan\n",
      "Processing Record 38 of Set 10 | pitimbu\n",
      "Processing Record 39 of Set 10 | kokopo\n",
      "City not found. Skipping...\n",
      "Processing Record 40 of Set 10 | shetpe\n",
      "Processing Record 41 of Set 10 | phalombe\n",
      "Processing Record 42 of Set 10 | kieta\n",
      "Processing Record 43 of Set 10 | port said\n",
      "Processing Record 44 of Set 10 | tommot\n",
      "Processing Record 45 of Set 10 | calama\n",
      "Processing Record 46 of Set 10 | lata\n",
      "Processing Record 47 of Set 10 | orlik\n",
      "Processing Record 48 of Set 10 | whitehorse\n",
      "Processing Record 49 of Set 10 | antropovo\n",
      "Processing Record 1 of Set 11 | tiarei\n",
      "Processing Record 2 of Set 11 | hailar\n",
      "Processing Record 3 of Set 11 | anadyr\n",
      "City not found. Skipping...\n",
      "Processing Record 4 of Set 11 | springdale\n",
      "Processing Record 5 of Set 11 | svetlogorsk\n",
      "Processing Record 6 of Set 11 | acajutla\n",
      "Processing Record 7 of Set 11 | pacific grove\n",
      "Processing Record 8 of Set 11 | charleston\n",
      "Processing Record 9 of Set 11 | meiganga\n",
      "Processing Record 10 of Set 11 | verkhnevilyuysk\n",
      "Processing Record 11 of Set 11 | kalmunai\n",
      "Processing Record 12 of Set 11 | marawi\n",
      "Processing Record 13 of Set 11 | ossora\n",
      "Processing Record 14 of Set 11 | husavik\n",
      "Processing Record 15 of Set 11 | sibolga\n",
      "Processing Record 16 of Set 11 | morondava\n",
      "City not found. Skipping...\n",
      "Processing Record 17 of Set 11 | santa maria\n",
      "Processing Record 18 of Set 11 | mackay\n",
      "Processing Record 19 of Set 11 | palmer\n",
      "Processing Record 20 of Set 11 | lisala\n",
      "Processing Record 21 of Set 11 | synya\n",
      "Processing Record 22 of Set 11 | gofitskoye\n",
      "Processing Record 23 of Set 11 | sabzevar\n",
      "Processing Record 24 of Set 11 | borovskoy\n",
      "Processing Record 25 of Set 11 | cabra\n",
      "Processing Record 26 of Set 11 | sao felix do xingu\n",
      "Processing Record 27 of Set 11 | machilipatnam\n",
      "Processing Record 28 of Set 11 | aberdeen\n",
      "Processing Record 29 of Set 11 | turan\n",
      "Processing Record 30 of Set 11 | alindao\n",
      "Processing Record 31 of Set 11 | moranbah\n",
      "Processing Record 32 of Set 11 | bonwapitse\n",
      "Processing Record 33 of Set 11 | hovd\n",
      "Processing Record 34 of Set 11 | muros\n",
      "Processing Record 35 of Set 11 | shingu\n",
      "Processing Record 36 of Set 11 | auki\n",
      "Processing Record 37 of Set 11 | liku\n",
      "Processing Record 38 of Set 11 | santa cruz de la palma\n",
      "Processing Record 39 of Set 11 | dubai\n",
      "City not found. Skipping...\n",
      "Processing Record 40 of Set 11 | tulun\n",
      "Processing Record 41 of Set 11 | kailaras\n",
      "Processing Record 42 of Set 11 | santa cruz cabralia\n",
      "Processing Record 43 of Set 11 | stephenville\n",
      "City not found. Skipping...\n",
      "Processing Record 44 of Set 11 | maningrida\n",
      "City not found. Skipping...\n",
      "Processing Record 45 of Set 11 | ust-ilimsk\n",
      "Processing Record 46 of Set 11 | nouadhibou\n",
      "Processing Record 47 of Set 11 | gavle\n",
      "Processing Record 48 of Set 11 | necochea\n",
      "City not found. Skipping...\n",
      "Processing Record 49 of Set 11 | the pas\n",
      "Processing Record 1 of Set 12 | jalu\n",
      "City not found. Skipping...\n",
      "Processing Record 2 of Set 12 | raffadali\n",
      "Processing Record 3 of Set 12 | hanmer springs\n",
      "Processing Record 4 of Set 12 | byron bay\n",
      "Processing Record 5 of Set 12 | fort nelson\n",
      "Processing Record 6 of Set 12 | comodoro rivadavia\n",
      "Processing Record 7 of Set 12 | xique-xique\n",
      "Processing Record 8 of Set 12 | kazachinskoye\n",
      "Processing Record 9 of Set 12 | payo\n",
      "Processing Record 10 of Set 12 | nanakuli\n",
      "Processing Record 11 of Set 12 | salinopolis\n",
      "Processing Record 12 of Set 12 | kayattar\n",
      "Processing Record 13 of Set 12 | baruun-urt\n",
      "Processing Record 14 of Set 12 | sidi ali\n",
      "Processing Record 15 of Set 12 | kamenka\n",
      "Search Complete\n"
     ]
    }
   ],
   "source": [
    "city_city = []\n",
    "cloudiness = []\n",
    "dates = []\n",
    "humidities = []\n",
    "lats = []\n",
    "lngs = []\n",
    "max_temps = []\n",
    "wind_speeds = []\n",
    "countries = []\n",
    "\n",
    "\n",
    "count = 0\n",
    "set = 1\n",
    "\n",
    "\n",
    "for city in cities:\n",
    "    try:\n",
    "        response = requests.get(f\"{url}&q={city}\").json()\n",
    "        cloudiness.append(response['clouds']['all'])\n",
    "        countries.append(response['sys']['country'])\n",
    "        dates.append(response['dt'])\n",
    "        humidities.append(response['main']['humidity'])\n",
    "        lats.append(response['coord']['lat'])\n",
    "        lngs.append(response['coord']['lon'])\n",
    "        max_temps.append(response['main']['temp_max'])\n",
    "        wind_speeds.append(response['wind']['speed'])\n",
    "        if count > 48:\n",
    "            count = count = 1\n",
    "            set = set + 1\n",
    "            city_city.append(city)\n",
    "        else:\n",
    "            count = count + 1\n",
    "            city_city.append(city)\n",
    "        print(f\"Processing Record {count} of Set {set} | {city}\")\n",
    "    except Exception:\n",
    "        print(\"City not found. Skipping...\")\n",
    "print(\"Search Complete\")"
   ]
  },
  {
   "cell_type": "code",
   "execution_count": null,
   "metadata": {},
   "outputs": [],
   "source": []
  },
  {
   "cell_type": "code",
   "execution_count": null,
   "metadata": {},
   "outputs": [],
   "source": [
    "\n"
   ]
  },
  {
   "cell_type": "code",
   "execution_count": null,
   "metadata": {},
   "outputs": [],
   "source": []
  },
  {
   "cell_type": "markdown",
   "metadata": {},
   "source": [
    "### Perform API Calls\n",
    "* Perform a weather check on each city using a series of successive API calls.\n",
    "* Include a print log of each city as it'sbeing processed (with the city number and city name).\n"
   ]
  },
  {
   "cell_type": "code",
   "execution_count": null,
   "metadata": {},
   "outputs": [],
   "source": []
  },
  {
   "cell_type": "markdown",
   "metadata": {},
   "source": [
    "### Convert Raw Data to DataFrame\n",
    "* Export the city data into a .csv.\n",
    "* Display the DataFrame"
   ]
  },
  {
   "cell_type": "code",
   "execution_count": null,
   "metadata": {},
   "outputs": [],
   "source": []
  },
  {
   "cell_type": "code",
   "execution_count": 8,
   "metadata": {},
   "outputs": [],
   "source": [
    "theweather = {\n",
    "    \n",
    "    \"City\": city_city,\n",
    "    \"Cloudiness\":cloudiness, \n",
    "    \"Country\":countries,\n",
    "    \"Date\":dates, \n",
    "    \"Humidity\": humidities,\n",
    "    \"Lat\":lats, \n",
    "    \"Lng\":lngs, \n",
    "    \"Max Temp\": max_temps,\n",
    "    \"Wind Speed\":wind_speeds\n",
    "    \n",
    "}\n",
    "\n",
    "\n",
    "\n"
   ]
  },
  {
   "cell_type": "code",
   "execution_count": 9,
   "metadata": {},
   "outputs": [],
   "source": [
    "theweather_dataframe = pd.DataFrame(theweather)"
   ]
  },
  {
   "cell_type": "code",
   "execution_count": 10,
   "metadata": {},
   "outputs": [
    {
     "data": {
      "text/html": [
       "<div>\n",
       "<style scoped>\n",
       "    .dataframe tbody tr th:only-of-type {\n",
       "        vertical-align: middle;\n",
       "    }\n",
       "\n",
       "    .dataframe tbody tr th {\n",
       "        vertical-align: top;\n",
       "    }\n",
       "\n",
       "    .dataframe thead th {\n",
       "        text-align: right;\n",
       "    }\n",
       "</style>\n",
       "<table border=\"1\" class=\"dataframe\">\n",
       "  <thead>\n",
       "    <tr style=\"text-align: right;\">\n",
       "      <th></th>\n",
       "      <th>City</th>\n",
       "      <th>Cloudiness</th>\n",
       "      <th>Country</th>\n",
       "      <th>Date</th>\n",
       "      <th>Humidity</th>\n",
       "      <th>Lat</th>\n",
       "      <th>Lng</th>\n",
       "      <th>Max Temp</th>\n",
       "      <th>Wind Speed</th>\n",
       "    </tr>\n",
       "  </thead>\n",
       "  <tbody>\n",
       "    <tr>\n",
       "      <th>0</th>\n",
       "      <td>sassandra</td>\n",
       "      <td>31</td>\n",
       "      <td>CI</td>\n",
       "      <td>1569469565</td>\n",
       "      <td>99</td>\n",
       "      <td>4.95</td>\n",
       "      <td>-6.09</td>\n",
       "      <td>72.27</td>\n",
       "      <td>2.55</td>\n",
       "    </tr>\n",
       "    <tr>\n",
       "      <th>1</th>\n",
       "      <td>mvuma</td>\n",
       "      <td>53</td>\n",
       "      <td>ZW</td>\n",
       "      <td>1569469565</td>\n",
       "      <td>80</td>\n",
       "      <td>-19.28</td>\n",
       "      <td>30.53</td>\n",
       "      <td>40.84</td>\n",
       "      <td>17.09</td>\n",
       "    </tr>\n",
       "    <tr>\n",
       "      <th>2</th>\n",
       "      <td>ribeira grande</td>\n",
       "      <td>7</td>\n",
       "      <td>PT</td>\n",
       "      <td>1569469566</td>\n",
       "      <td>91</td>\n",
       "      <td>38.52</td>\n",
       "      <td>-28.70</td>\n",
       "      <td>72.52</td>\n",
       "      <td>14.65</td>\n",
       "    </tr>\n",
       "    <tr>\n",
       "      <th>3</th>\n",
       "      <td>ushuaia</td>\n",
       "      <td>20</td>\n",
       "      <td>AR</td>\n",
       "      <td>1569469566</td>\n",
       "      <td>69</td>\n",
       "      <td>-54.81</td>\n",
       "      <td>-68.31</td>\n",
       "      <td>41.00</td>\n",
       "      <td>17.22</td>\n",
       "    </tr>\n",
       "    <tr>\n",
       "      <th>4</th>\n",
       "      <td>arraial do cabo</td>\n",
       "      <td>100</td>\n",
       "      <td>BR</td>\n",
       "      <td>1569469458</td>\n",
       "      <td>88</td>\n",
       "      <td>-22.97</td>\n",
       "      <td>-42.02</td>\n",
       "      <td>67.84</td>\n",
       "      <td>22.73</td>\n",
       "    </tr>\n",
       "  </tbody>\n",
       "</table>\n",
       "</div>"
      ],
      "text/plain": [
       "              City  Cloudiness Country        Date  Humidity    Lat    Lng  \\\n",
       "0        sassandra          31      CI  1569469565        99   4.95  -6.09   \n",
       "1            mvuma          53      ZW  1569469565        80 -19.28  30.53   \n",
       "2   ribeira grande           7      PT  1569469566        91  38.52 -28.70   \n",
       "3          ushuaia          20      AR  1569469566        69 -54.81 -68.31   \n",
       "4  arraial do cabo         100      BR  1569469458        88 -22.97 -42.02   \n",
       "\n",
       "   Max Temp  Wind Speed  \n",
       "0     72.27        2.55  \n",
       "1     40.84       17.09  \n",
       "2     72.52       14.65  \n",
       "3     41.00       17.22  \n",
       "4     67.84       22.73  "
      ]
     },
     "execution_count": 10,
     "metadata": {},
     "output_type": "execute_result"
    }
   ],
   "source": [
    "theweather_dataframe.head()"
   ]
  },
  {
   "cell_type": "code",
   "execution_count": null,
   "metadata": {},
   "outputs": [],
   "source": []
  },
  {
   "cell_type": "markdown",
   "metadata": {},
   "source": [
    "### Plotting the Data\n",
    "* Use proper labeling of the plots using plot titles (including date of analysis) and axes labels.\n",
    "* Save the plotted figures as .pngs."
   ]
  },
  {
   "cell_type": "markdown",
   "metadata": {},
   "source": [
    "#### Latitude vs. Temperature Plot"
   ]
  },
  {
   "cell_type": "code",
   "execution_count": 11,
   "metadata": {
    "scrolled": true
   },
   "outputs": [
    {
     "data": {
      "image/png": "[encoded data removed]",
      "text/plain": [
       "<Figure size 432x288 with 1 Axes>"
      ]
     },
     "metadata": {
      "needs_background": "light"
     },
     "output_type": "display_data"
    }
   ],
   "source": [
    "x_LTvalues = theweather_dataframe[\"Lat\"]\n",
    "y_LTvalues = theweather_dataframe[\"Max Temp\"]\n",
    "plt.scatter(x_LTvalues,y_LTvalues)\n",
    "plt.grid()\n",
    "plt.title(\"Latitude vs. Temperature\")\n",
    "plt.xlabel(\"Latitude\")\n",
    "plt.ylabel(\"Max Temp\")\n",
    "\n",
    "\n",
    "plt.savefig(\"LatitudevsMax_Temp.png\")\n",
    "\n",
    "plt.show()"
   ]
  },
  {
   "cell_type": "code",
   "execution_count": null,
   "metadata": {},
   "outputs": [],
   "source": []
  },
  {
   "cell_type": "code",
   "execution_count": 15,
   "metadata": {},
   "outputs": [],
   "source": []
  },
  {
   "cell_type": "markdown",
   "metadata": {},
   "source": [
    "#### Latitude vs. Humidity Plot"
   ]
  },
  {
   "cell_type": "code",
   "execution_count": 12,
   "metadata": {},
   "outputs": [
    {
     "data": {
      "image/png": "[encoded data removed]",
      "text/plain": [
       "<Figure size 432x288 with 1 Axes>"
      ]
     },
     "metadata": {
      "needs_background": "light"
     },
     "output_type": "display_data"
    }
   ],
   "source": [
    "x_LHvalues = theweather_dataframe[\"Lat\"]\n",
    "y_LHvalues = theweather_dataframe[\"Humidity\"]\n",
    "plt.scatter(x_LHvalues,y_LHvalues)\n",
    "plt.grid()\n",
    "plt.title(\"Latitude vs. Humidity\")\n",
    "plt.xlabel(\"Latitude\")\n",
    "plt.ylabel(\"Humidity\")\n",
    "\n",
    "plt.savefig(\"LatitudevsHumidity.png\")\n",
    "\n",
    "plt.show()"
   ]
  },
  {
   "cell_type": "code",
   "execution_count": null,
   "metadata": {},
   "outputs": [],
   "source": []
  },
  {
   "cell_type": "markdown",
   "metadata": {},
   "source": [
    "#### Latitude vs. Cloudiness Plot"
   ]
  },
  {
   "cell_type": "code",
   "execution_count": 13,
   "metadata": {},
   "outputs": [
    {
     "data": {
      "image/png": "[encoded data removed]",
      "text/plain": [
       "<Figure size 432x288 with 1 Axes>"
      ]
     },
     "metadata": {
      "needs_background": "light"
     },
     "output_type": "display_data"
    }
   ],
   "source": [
    "x_LCvalues = theweather_dataframe[\"Lat\"]\n",
    "y_LCvalues = theweather_dataframe[\"Cloudiness\"]\n",
    "plt.scatter(x_LCvalues, y_LCvalues)\n",
    "plt.grid()\n",
    "plt.title(\"Latitude vs. Cloudiness\")\n",
    "plt.xlabel(\"Latitude\")\n",
    "plt.ylabel(\"Cloudiness\")\n",
    "\n",
    "plt.savefig(\"LatitudevsCloudiness.png\")\n",
    "\n",
    "plt.show()"
   ]
  },
  {
   "cell_type": "code",
   "execution_count": null,
   "metadata": {},
   "outputs": [],
   "source": []
  },
  {
   "cell_type": "markdown",
   "metadata": {},
   "source": [
    "#### Latitude vs. Wind Speed Plot"
   ]
  },
  {
   "cell_type": "code",
   "execution_count": 14,
   "metadata": {},
   "outputs": [
    {
     "data": {
      "image/png": "[encoded data removed]",
      "text/plain": [
       "<Figure size 432x288 with 1 Axes>"
      ]
     },
     "metadata": {
      "needs_background": "light"
     },
     "output_type": "display_data"
    }
   ],
   "source": [
    "x_values = theweather_dataframe[\"Lat\"]\n",
    "y_values = theweather_dataframe[\"Wind Speed\"]\n",
    "plt.scatter(x_values, y_values)\n",
    "\n",
    "plt.grid()\n",
    "plt.title(\"Latitude vs. Wind Spead\")\n",
    "plt.xlabel(\"Latitude\")\n",
    "plt.ylabel(\"Wind Speed\")\n",
    "\n",
    "\n",
    "plt.savefig(\"LatitudevsWind.png\")\n",
    "\n",
    "plt.show()"
   ]
  },
  {
   "cell_type": "markdown",
   "metadata": {},
   "source": [
    "## Linear Regression"
   ]
  },
  {
   "cell_type": "code",
   "execution_count": null,
   "metadata": {},
   "outputs": [],
   "source": [
    "# OPTIONAL: Create a function to create Linear Regression plots\n"
   ]
  },
  {
   "cell_type": "code",
   "execution_count": null,
   "metadata": {},
   "outputs": [],
   "source": []
  },
  {
   "cell_type": "code",
   "execution_count": 15,
   "metadata": {},
   "outputs": [
    {
     "data": {
      "text/html": [
       "<div>\n",
       "<style scoped>\n",
       "    .dataframe tbody tr th:only-of-type {\n",
       "        vertical-align: middle;\n",
       "    }\n",
       "\n",
       "    .dataframe tbody tr th {\n",
       "        vertical-align: top;\n",
       "    }\n",
       "\n",
       "    .dataframe thead th {\n",
       "        text-align: right;\n",
       "    }\n",
       "</style>\n",
       "<table border=\"1\" class=\"dataframe\">\n",
       "  <thead>\n",
       "    <tr style=\"text-align: right;\">\n",
       "      <th></th>\n",
       "      <th>City</th>\n",
       "      <th>Cloudiness</th>\n",
       "      <th>Country</th>\n",
       "      <th>Date</th>\n",
       "      <th>Humidity</th>\n",
       "      <th>Lat</th>\n",
       "      <th>Lng</th>\n",
       "      <th>Max Temp</th>\n",
       "      <th>Wind Speed</th>\n",
       "    </tr>\n",
       "  </thead>\n",
       "  <tbody>\n",
       "    <tr>\n",
       "      <th>1</th>\n",
       "      <td>mvuma</td>\n",
       "      <td>53</td>\n",
       "      <td>ZW</td>\n",
       "      <td>1569469565</td>\n",
       "      <td>80</td>\n",
       "      <td>-19.28</td>\n",
       "      <td>30.53</td>\n",
       "      <td>40.84</td>\n",
       "      <td>17.09</td>\n",
       "    </tr>\n",
       "    <tr>\n",
       "      <th>3</th>\n",
       "      <td>ushuaia</td>\n",
       "      <td>20</td>\n",
       "      <td>AR</td>\n",
       "      <td>1569469566</td>\n",
       "      <td>69</td>\n",
       "      <td>-54.81</td>\n",
       "      <td>-68.31</td>\n",
       "      <td>41.00</td>\n",
       "      <td>17.22</td>\n",
       "    </tr>\n",
       "    <tr>\n",
       "      <th>4</th>\n",
       "      <td>arraial do cabo</td>\n",
       "      <td>100</td>\n",
       "      <td>BR</td>\n",
       "      <td>1569469458</td>\n",
       "      <td>88</td>\n",
       "      <td>-22.97</td>\n",
       "      <td>-42.02</td>\n",
       "      <td>67.84</td>\n",
       "      <td>22.73</td>\n",
       "    </tr>\n",
       "    <tr>\n",
       "      <th>6</th>\n",
       "      <td>mahebourg</td>\n",
       "      <td>40</td>\n",
       "      <td>MU</td>\n",
       "      <td>1569469566</td>\n",
       "      <td>94</td>\n",
       "      <td>-20.41</td>\n",
       "      <td>57.70</td>\n",
       "      <td>75.00</td>\n",
       "      <td>3.36</td>\n",
       "    </tr>\n",
       "    <tr>\n",
       "      <th>8</th>\n",
       "      <td>mataura</td>\n",
       "      <td>100</td>\n",
       "      <td>NZ</td>\n",
       "      <td>1569469471</td>\n",
       "      <td>91</td>\n",
       "      <td>-46.19</td>\n",
       "      <td>168.86</td>\n",
       "      <td>50.00</td>\n",
       "      <td>18.99</td>\n",
       "    </tr>\n",
       "  </tbody>\n",
       "</table>\n",
       "</div>"
      ],
      "text/plain": [
       "              City  Cloudiness Country        Date  Humidity    Lat     Lng  \\\n",
       "1            mvuma          53      ZW  1569469565        80 -19.28   30.53   \n",
       "3          ushuaia          20      AR  1569469566        69 -54.81  -68.31   \n",
       "4  arraial do cabo         100      BR  1569469458        88 -22.97  -42.02   \n",
       "6        mahebourg          40      MU  1569469566        94 -20.41   57.70   \n",
       "8          mataura         100      NZ  1569469471        91 -46.19  168.86   \n",
       "\n",
       "   Max Temp  Wind Speed  \n",
       "1     40.84       17.09  \n",
       "3     41.00       17.22  \n",
       "4     67.84       22.73  \n",
       "6     75.00        3.36  \n",
       "8     50.00       18.99  "
      ]
     },
     "execution_count": 15,
     "metadata": {},
     "output_type": "execute_result"
    }
   ],
   "source": [
    "# Create Northern and Southern Hemisphere DataFrames\n",
    "\n",
    "SouthernHem = theweather_dataframe[(theweather_dataframe['Lat'] < 0) ]\n",
    "\n",
    "SouthernHem.head()\n"
   ]
  },
  {
   "cell_type": "code",
   "execution_count": 16,
   "metadata": {},
   "outputs": [
    {
     "data": {
      "text/html": [
       "<div>\n",
       "<style scoped>\n",
       "    .dataframe tbody tr th:only-of-type {\n",
       "        vertical-align: middle;\n",
       "    }\n",
       "\n",
       "    .dataframe tbody tr th {\n",
       "        vertical-align: top;\n",
       "    }\n",
       "\n",
       "    .dataframe thead th {\n",
       "        text-align: right;\n",
       "    }\n",
       "</style>\n",
       "<table border=\"1\" class=\"dataframe\">\n",
       "  <thead>\n",
       "    <tr style=\"text-align: right;\">\n",
       "      <th></th>\n",
       "      <th>City</th>\n",
       "      <th>Cloudiness</th>\n",
       "      <th>Country</th>\n",
       "      <th>Date</th>\n",
       "      <th>Humidity</th>\n",
       "      <th>Lat</th>\n",
       "      <th>Lng</th>\n",
       "      <th>Max Temp</th>\n",
       "      <th>Wind Speed</th>\n",
       "    </tr>\n",
       "  </thead>\n",
       "  <tbody>\n",
       "    <tr>\n",
       "      <th>0</th>\n",
       "      <td>sassandra</td>\n",
       "      <td>31</td>\n",
       "      <td>CI</td>\n",
       "      <td>1569469565</td>\n",
       "      <td>99</td>\n",
       "      <td>4.95</td>\n",
       "      <td>-6.09</td>\n",
       "      <td>72.27</td>\n",
       "      <td>2.55</td>\n",
       "    </tr>\n",
       "    <tr>\n",
       "      <th>2</th>\n",
       "      <td>ribeira grande</td>\n",
       "      <td>7</td>\n",
       "      <td>PT</td>\n",
       "      <td>1569469566</td>\n",
       "      <td>91</td>\n",
       "      <td>38.52</td>\n",
       "      <td>-28.70</td>\n",
       "      <td>72.52</td>\n",
       "      <td>14.65</td>\n",
       "    </tr>\n",
       "    <tr>\n",
       "      <th>5</th>\n",
       "      <td>umm lajj</td>\n",
       "      <td>2</td>\n",
       "      <td>SA</td>\n",
       "      <td>1569469566</td>\n",
       "      <td>72</td>\n",
       "      <td>25.02</td>\n",
       "      <td>37.27</td>\n",
       "      <td>83.52</td>\n",
       "      <td>10.33</td>\n",
       "    </tr>\n",
       "    <tr>\n",
       "      <th>7</th>\n",
       "      <td>geraldton</td>\n",
       "      <td>40</td>\n",
       "      <td>CA</td>\n",
       "      <td>1569469566</td>\n",
       "      <td>100</td>\n",
       "      <td>49.72</td>\n",
       "      <td>-86.95</td>\n",
       "      <td>46.40</td>\n",
       "      <td>8.05</td>\n",
       "    </tr>\n",
       "    <tr>\n",
       "      <th>9</th>\n",
       "      <td>bijar</td>\n",
       "      <td>0</td>\n",
       "      <td>IR</td>\n",
       "      <td>1569469567</td>\n",
       "      <td>44</td>\n",
       "      <td>35.87</td>\n",
       "      <td>47.60</td>\n",
       "      <td>48.02</td>\n",
       "      <td>1.57</td>\n",
       "    </tr>\n",
       "  </tbody>\n",
       "</table>\n",
       "</div>"
      ],
      "text/plain": [
       "             City  Cloudiness Country        Date  Humidity    Lat    Lng  \\\n",
       "0       sassandra          31      CI  1569469565        99   4.95  -6.09   \n",
       "2  ribeira grande           7      PT  1569469566        91  38.52 -28.70   \n",
       "5        umm lajj           2      SA  1569469566        72  25.02  37.27   \n",
       "7       geraldton          40      CA  1569469566       100  49.72 -86.95   \n",
       "9           bijar           0      IR  1569469567        44  35.87  47.60   \n",
       "\n",
       "   Max Temp  Wind Speed  \n",
       "0     72.27        2.55  \n",
       "2     72.52       14.65  \n",
       "5     83.52       10.33  \n",
       "7     46.40        8.05  \n",
       "9     48.02        1.57  "
      ]
     },
     "execution_count": 16,
     "metadata": {},
     "output_type": "execute_result"
    }
   ],
   "source": [
    "NorthernHem = theweather_dataframe[(theweather_dataframe['Lat'] > 0) ]\n",
    "\n",
    "NorthernHem.head()\n"
   ]
  },
  {
   "cell_type": "code",
   "execution_count": 1,
   "metadata": {},
   "outputs": [],
   "source": [
    "\n"
   ]
  },
  {
   "cell_type": "code",
   "execution_count": null,
   "metadata": {},
   "outputs": [],
   "source": []
  },
  {
   "cell_type": "markdown",
   "metadata": {},
   "source": [
    "####  Northern Hemisphere - Max Temp vs. Latitude Linear Regression"
   ]
  },
  {
   "cell_type": "code",
   "execution_count": 17,
   "metadata": {},
   "outputs": [
    {
     "name": "stdout",
     "output_type": "stream",
     "text": [
      "The r-squared is: -0.8426425246886043\n"
     ]
    },
    {
     "data": {
      "image/png": "[encoded data removed]",
      "text/plain": [
       "<Figure size 432x288 with 1 Axes>"
      ]
     },
     "metadata": {
      "needs_background": "light"
     },
     "output_type": "display_data"
    }
   ],
   "source": [
    "x_NLTvalues = NorthernHem[\"Lat\"]\n",
    "y_NLTvalues = NorthernHem[\"Max Temp\"]\n",
    "\n",
    "\n",
    "(slope, intercept, rvalue, pvalue, stderr) = linregress(x_NLTvalues, y_NLTvalues)\n",
    "\n",
    "NLT_regress_values = x_NLTvalues * slope + intercept\n",
    "\n",
    "\n",
    "NLT_line_eq = \"y = \" + str(round(slope, 2)) + \"x +\" + str(round(intercept, 2))\n",
    "\n",
    "\n",
    "plt.scatter(x_NLTvalues,y_NLTvalues)\n",
    "plt.grid()\n",
    "plt.title(\"Northern Latitude vs. Temperature\")\n",
    "plt.xlabel('Latitude')\n",
    "plt.ylabel('Temperature')\n",
    "plt.plot(x_NLTvalues,NLT_regress_values,\"r-\")\n",
    "plt.annotate(NLT_line_eq,(20,15),fontsize=15,color=\"red\")\n",
    "\n",
    "\n",
    "\n",
    "\n",
    "print(f\"The r-squared is: {rvalue}\")\n",
    "\n",
    "plt.savefig(\"Northern Max_Temp_Latitude_Linear.png\")\n",
    "\n",
    "plt.show()"
   ]
  },
  {
   "cell_type": "code",
   "execution_count": null,
   "metadata": {},
   "outputs": [],
   "source": []
  },
  {
   "cell_type": "markdown",
   "metadata": {},
   "source": [
    "####  Southern Hemisphere - Max Temp vs. Latitude Linear Regression"
   ]
  },
  {
   "cell_type": "code",
   "execution_count": 18,
   "metadata": {},
   "outputs": [
    {
     "name": "stdout",
     "output_type": "stream",
     "text": [
      "The r-squared is: 0.624252155864057\n"
     ]
    },
    {
     "data": {
      "image/png": "[encoded data removed]",
      "text/plain": [
       "<Figure size 432x288 with 1 Axes>"
      ]
     },
     "metadata": {
      "needs_background": "light"
     },
     "output_type": "display_data"
    }
   ],
   "source": [
    "x_SLTvalues = SouthernHem[\"Lat\"]\n",
    "y_SLTvalues = SouthernHem[\"Max Temp\"]\n",
    "\n",
    "(slope, intercept, rvalue, pvalue, stderr) = linregress(x_SLTvalues, y_SLTvalues)\n",
    "\n",
    "SLT_regress_values = x_SLTvalues * slope + intercept\n",
    "\n",
    "SLT_line_eq = \"y = \" + str(round(slope, 2)) + \"x +\" + str(round(intercept, 2))\n",
    "\n",
    "plt.scatter(x_SLTvalues,y_SLTvalues)\n",
    "plt.grid()\n",
    "plt.title(\"Southern Latitude vs. Temperature\")\n",
    "plt.xlabel('Latitude')\n",
    "plt.ylabel('Temperature')\n",
    "plt.plot(x_SLTvalues,SLT_regress_values,\"r-\")\n",
    "plt.annotate(SLT_line_eq,(20,15),fontsize=15,color=\"red\")\n",
    "\n",
    "\n",
    "\n",
    "\n",
    "print(f\"The r-squared is: {rvalue}\")\n",
    "\n",
    "\n",
    "plt.savefig(\"Southern Max_Temp_Latitude_Linear.png\")\n",
    "\n",
    "plt.show()"
   ]
  },
  {
   "cell_type": "code",
   "execution_count": null,
   "metadata": {},
   "outputs": [],
   "source": []
  },
  {
   "cell_type": "markdown",
   "metadata": {},
   "source": [
    "####  Northern Hemisphere - Humidity (%) vs. Latitude Linear Regression"
   ]
  },
  {
   "cell_type": "code",
   "execution_count": 19,
   "metadata": {},
   "outputs": [
    {
     "name": "stdout",
     "output_type": "stream",
     "text": [
      "The r-squared is: 0.027158777207097796\n"
     ]
    },
    {
     "data": {
      "image/png": "[encoded data removed]",
      "text/plain": [
       "<Figure size 432x288 with 1 Axes>"
      ]
     },
     "metadata": {
      "needs_background": "light"
     },
     "output_type": "display_data"
    }
   ],
   "source": [
    "x_NLHvalues = NorthernHem[\"Lat\"]\n",
    "y_NLHvalues = NorthernHem[\"Humidity\"]\n",
    "\n",
    "\n",
    "(slope, intercept, rvalue, pvalue, stderr) = linregress(x_NLHvalues, y_NLHvalues)\n",
    "\n",
    "NLH_regress_values = x_NLHvalues * slope + intercept\n",
    "\n",
    "\n",
    "NLH_line_eq = \"y = \" + str(round(slope, 2)) + \"x +\" + str(round(intercept, 2))\n",
    "\n",
    "\n",
    "plt.scatter(x_NLHvalues,y_NLHvalues)\n",
    "plt.grid()\n",
    "plt.title(\"Northern Latitude vs. Humidity\")\n",
    "plt.xlabel('Latitude')\n",
    "plt.ylabel('Humidity')\n",
    "plt.plot(x_NLHvalues,NLH_regress_values,\"r-\")\n",
    "plt.annotate(NLH_line_eq,(20,15),fontsize=15,color=\"red\")\n",
    "\n",
    "\n",
    "\n",
    "\n",
    "print(f\"The r-squared is: {rvalue}\")\n",
    "\n",
    "plt.savefig(\"Northern Humidity_Latitude_Linear.png\")\n",
    "\n",
    "plt.show()"
   ]
  },
  {
   "cell_type": "markdown",
   "metadata": {},
   "source": [
    "####  Southern Hemisphere - Humidity (%) vs. Latitude Linear Regression"
   ]
  },
  {
   "cell_type": "code",
   "execution_count": 20,
   "metadata": {},
   "outputs": [
    {
     "name": "stdout",
     "output_type": "stream",
     "text": [
      "The r-squared is: 0.12671585126563747\n"
     ]
    },
    {
     "data": {
      "image/png": "[encoded data removed]",
      "text/plain": [
       "<Figure size 432x288 with 1 Axes>"
      ]
     },
     "metadata": {
      "needs_background": "light"
     },
     "output_type": "display_data"
    }
   ],
   "source": [
    "x_SLHvalues = SouthernHem[\"Lat\"]\n",
    "y_SLHvalues = SouthernHem[\"Humidity\"]\n",
    "\n",
    "\n",
    "(slope, intercept, rvalue, pvalue, stderr) = linregress(x_SLHvalues, y_SLHvalues)\n",
    "\n",
    "SLH_regress_values = x_SLHvalues * slope + intercept\n",
    "\n",
    "\n",
    "SLH_line_eq = \"y = \" + str(round(slope, 2)) + \"x +\" + str(round(intercept, 2))\n",
    "\n",
    "\n",
    "plt.scatter(x_SLHvalues,y_SLHvalues)\n",
    "plt.grid()\n",
    "plt.title(\"Southern Latitude vs. Humidity\")\n",
    "plt.xlabel('Latitude')\n",
    "plt.ylabel('Humidity')\n",
    "plt.plot(x_SLHvalues,SLH_regress_values,\"r-\")\n",
    "plt.annotate(SLH_line_eq,(20,15),fontsize=15,color=\"red\")\n",
    "\n",
    "\n",
    "\n",
    "\n",
    "print(f\"The r-squared is: {rvalue}\")\n",
    "\n",
    "plt.savefig(\"Southern Humidity_Latitude_Linear.png\")\n",
    "\n",
    "plt.show()"
   ]
  },
  {
   "cell_type": "code",
   "execution_count": null,
   "metadata": {},
   "outputs": [],
   "source": []
  },
  {
   "cell_type": "markdown",
   "metadata": {},
   "source": [
    "####  Northern Hemisphere - Cloudiness (%) vs. Latitude Linear Regression"
   ]
  },
  {
   "cell_type": "code",
   "execution_count": 21,
   "metadata": {},
   "outputs": [
    {
     "name": "stdout",
     "output_type": "stream",
     "text": [
      "The r-squared is: 0.06679447411482578\n"
     ]
    },
    {
     "data": {
      "image/png": "[encoded data removed]",
      "text/plain": [
       "<Figure size 432x288 with 1 Axes>"
      ]
     },
     "metadata": {
      "needs_background": "light"
     },
     "output_type": "display_data"
    }
   ],
   "source": [
    "x_NLCvalues = NorthernHem[\"Lat\"]\n",
    "y_NLCvalues = NorthernHem[\"Cloudiness\"]\n",
    "\n",
    "\n",
    "(slope, intercept, rvalue, pvalue, stderr) = linregress(x_NLCvalues, y_NLCvalues)\n",
    "\n",
    "NLC_regress_values = x_NLCvalues * slope + intercept\n",
    "\n",
    "\n",
    "NLC_line_eq = \"y = \" + str(round(slope, 2)) + \"x +\" + str(round(intercept, 2))\n",
    "\n",
    "\n",
    "plt.scatter(x_NLCvalues,y_NLCvalues)\n",
    "plt.grid()\n",
    "plt.title(\"Northern Latitude vs. Cloudiness\")\n",
    "plt.xlabel('Latitude')\n",
    "plt.ylabel('Cloudiness')\n",
    "plt.plot(x_NLCvalues,NLC_regress_values,\"r-\")\n",
    "plt.annotate(NLC_line_eq,(20,15),fontsize=15,color=\"red\")\n",
    "\n",
    "\n",
    "\n",
    "\n",
    "print(f\"The r-squared is: {rvalue}\")\n",
    "\n",
    "plt.savefig(\"Northern Cloudiness_Latitude_Linear.png\")\n",
    "\n",
    "plt.show()"
   ]
  },
  {
   "cell_type": "markdown",
   "metadata": {},
   "source": [
    "####  Southern Hemisphere - Cloudiness (%) vs. Latitude Linear Regression"
   ]
  },
  {
   "cell_type": "code",
   "execution_count": 22,
   "metadata": {},
   "outputs": [
    {
     "name": "stdout",
     "output_type": "stream",
     "text": [
      "The r-squared is: 0.24230589614489367\n"
     ]
    },
    {
     "data": {
      "image/png": "[encoded data removed]",
      "text/plain": [
       "<Figure size 432x288 with 1 Axes>"
      ]
     },
     "metadata": {
      "needs_background": "light"
     },
     "output_type": "display_data"
    }
   ],
   "source": [
    "x_SLCvalues = SouthernHem[\"Lat\"]\n",
    "y_SLCvalues = SouthernHem[\"Cloudiness\"]\n",
    "\n",
    "\n",
    "(slope, intercept, rvalue, pvalue, stderr) = linregress(x_SLCvalues, y_SLCvalues)\n",
    "\n",
    "SLC_regress_values = x_SLCvalues * slope + intercept\n",
    "\n",
    "\n",
    "SLC_line_eq = \"y = \" + str(round(slope, 2)) + \"x +\" + str(round(intercept, 2))\n",
    "\n",
    "\n",
    "plt.scatter(x_SLCvalues,y_SLCvalues)\n",
    "plt.grid()\n",
    "plt.title(\"Northern Latitude vs. Cloudiness\")\n",
    "plt.xlabel('Latitude')\n",
    "plt.ylabel('Cloudiness')\n",
    "plt.plot(x_SLCvalues,SLC_regress_values,\"r-\")\n",
    "plt.annotate(SLC_line_eq,(20,15),fontsize=15,color=\"red\")\n",
    "\n",
    "\n",
    "\n",
    "\n",
    "print(f\"The r-squared is: {rvalue}\")\n",
    "\n",
    "plt.savefig(\"Southern Cloudiness_Latitude_Linear.png\")\n",
    "\n",
    "plt.show()"
   ]
  },
  {
   "cell_type": "code",
   "execution_count": null,
   "metadata": {},
   "outputs": [],
   "source": []
  },
  {
   "cell_type": "markdown",
   "metadata": {},
   "source": [
    "####  Northern Hemisphere - Wind Speed (mph) vs. Latitude Linear Regression"
   ]
  },
  {
   "cell_type": "code",
   "execution_count": 23,
   "metadata": {},
   "outputs": [
    {
     "name": "stdout",
     "output_type": "stream",
     "text": [
      "The r-squared is: 0.21293715630158724\n"
     ]
    },
    {
     "data": {
      "image/png": "[encoded data removed]",
      "text/plain": [
       "<Figure size 432x288 with 1 Axes>"
      ]
     },
     "metadata": {
      "needs_background": "light"
     },
     "output_type": "display_data"
    }
   ],
   "source": [
    "x_NLWvalues = NorthernHem[\"Lat\"]\n",
    "y_NLWvalues = NorthernHem[\"Wind Speed\"]\n",
    "\n",
    "\n",
    "(slope, intercept, rvalue, pvalue, stderr) = linregress(x_NLWvalues, y_NLWvalues)\n",
    "\n",
    "NLW_regress_values = x_NLWvalues * slope + intercept\n",
    "\n",
    "\n",
    "NLW_line_eq = \"y = \" + str(round(slope, 2)) + \"x +\" + str(round(intercept, 2))\n",
    "\n",
    "\n",
    "plt.scatter(x_NLWvalues,y_NLWvalues)\n",
    "plt.grid()\n",
    "plt.title(\"Northern Latitude vs. Wind Speed\")\n",
    "plt.xlabel('Latitude')\n",
    "plt.ylabel('Wind Speed')\n",
    "plt.plot(x_NLWvalues,NLW_regress_values,\"r-\")\n",
    "plt.annotate(NLW_line_eq,(20,15),fontsize=15,color=\"red\")\n",
    "\n",
    "\n",
    "\n",
    "\n",
    "print(f\"The r-squared is: {rvalue}\")\n",
    "\n",
    "plt.savefig(\"Northern WindSpeed_Latitude_Linear.png\")\n",
    "\n",
    "plt.show()"
   ]
  },
  {
   "cell_type": "code",
   "execution_count": null,
   "metadata": {},
   "outputs": [],
   "source": []
  },
  {
   "cell_type": "markdown",
   "metadata": {},
   "source": [
    "####  Southern Hemisphere - Wind Speed (mph) vs. Latitude Linear Regression"
   ]
  },
  {
   "cell_type": "code",
   "execution_count": null,
   "metadata": {},
   "outputs": [],
   "source": []
  },
  {
   "cell_type": "code",
   "execution_count": 24,
   "metadata": {},
   "outputs": [
    {
     "name": "stdout",
     "output_type": "stream",
     "text": [
      "The r-squared is: -0.19261084004662365\n"
     ]
    },
    {
     "data": {
      "image/png": "[encoded data removed]",
      "text/plain": [
       "<Figure size 432x288 with 1 Axes>"
      ]
     },
     "metadata": {
      "needs_background": "light"
     },
     "output_type": "display_data"
    }
   ],
   "source": [
    "x_SLWvalues = SouthernHem[\"Lat\"]\n",
    "y_SLWvalues = SouthernHem[\"Wind Speed\"]\n",
    "\n",
    "\n",
    "(slope, intercept, rvalue, pvalue, stderr) = linregress(x_SLWvalues, y_SLWvalues)\n",
    "\n",
    "SLW_regress_values = x_SLWvalues * slope + intercept\n",
    "\n",
    "\n",
    "SLW_line_eq = \"y = \" + str(round(slope, 2)) + \"x +\" + str(round(intercept, 2))\n",
    "\n",
    "\n",
    "plt.scatter(x_SLWvalues,y_SLWvalues)\n",
    "plt.grid()\n",
    "plt.title(\"Northern Latitude vs. Wind Speed\")\n",
    "plt.xlabel('Latitude')\n",
    "plt.ylabel('Wind Speed')\n",
    "plt.plot(x_SLWvalues,SLW_regress_values,\"r-\")\n",
    "plt.annotate(SLW_line_eq,(20,15),fontsize=15,color=\"red\")\n",
    "\n",
    "\n",
    "\n",
    "\n",
    "print(f\"The r-squared is: {rvalue}\")\n",
    "\n",
    "plt.savefig(\"Southern WindSpeed_Latitude_Linear.png\")\n",
    "\n",
    "plt.show()"
   ]
  },
  {
   "cell_type": "code",
   "execution_count": null,
   "metadata": {},
   "outputs": [],
   "source": []
  }
 ],
 "metadata": {
  "anaconda-cloud": {},
  "kernel_info": {
   "name": "python3"
  },
  "kernelspec": {
   "display_name": "Python 3",
   "language": "python",
   "name": "python3"
  },
  "language_info": {
   "codemirror_mode": {
    "name": "ipython",
    "version": 3
   },
   "file_extension": ".py",
   "mimetype": "text/x-python",
   "name": "python",
   "nbconvert_exporter": "python",
   "pygments_lexer": "ipython3",
   "version": "3.7.3"
  },
  "latex_envs": {
   "LaTeX_envs_menu_present": true,
   "autoclose": false,
   "autocomplete": true,
   "bibliofile": "biblio.bib",
   "cite_by": "apalike",
   "current_citInitial": 1,
   "eqLabelWithNumbers": true,
   "eqNumInitial": 1,
   "hotkeys": {
    "equation": "Ctrl-E",
    "itemize": "Ctrl-I"
   },
   "labels_anchors": false,
   "latex_user_defs": false,
   "report_style_numbering": false,
   "user_envs_cfg": false
  },
  "nteract": {
   "version": "0.12.3"
  }
 },
 "nbformat": 4,
 "nbformat_minor": 2
}
